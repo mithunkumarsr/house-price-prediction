{
  "nbformat": 4,
  "nbformat_minor": 0,
  "metadata": {
    "colab": {
      "name": "LinearReg_HousingPred.ipynb",
      "provenance": [],
      "authorship_tag": "ABX9TyPP7qkhQ0htjHvkFtpCcjQf",
      "include_colab_link": true
    },
    "kernelspec": {
      "name": "python3",
      "display_name": "Python 3"
    },
    "language_info": {
      "name": "python"
    }
  },
  "cells": [
    {
      "cell_type": "markdown",
      "metadata": {
        "id": "view-in-github",
        "colab_type": "text"
      },
      "source": [
        "<a href=\"https://colab.research.google.com/github/mithunkumarsr/house-price-prediction/blob/master/LinearReg_HousingPred.ipynb\" target=\"_parent\"><img src=\"https://colab.research.google.com/assets/colab-badge.svg\" alt=\"Open In Colab\"/></a>"
      ]
    },
    {
      "cell_type": "code",
      "metadata": {
        "id": "TDQsOTx7Apqv"
      },
      "source": [
        "import pandas as pd\n",
        "import numpy as np\n",
        "from sklearn import linear_model\n",
        "import pickle\n"
      ],
      "execution_count": 1,
      "outputs": []
    },
    {
      "cell_type": "code",
      "metadata": {
        "id": "h4w4nUblArhl"
      },
      "source": [
        "\n",
        "# Data Acquisition\n",
        "df = pd.read_csv('newhousing.csv')"
      ],
      "execution_count": 3,
      "outputs": []
    },
    {
      "cell_type": "code",
      "metadata": {
        "id": "h2C3OSU-A6SE"
      },
      "source": [
        "\n",
        "# Data Pre-Processing\n",
        "#df.bedrooms = df.bedrooms.fillna(df.bedrooms.median())\n",
        "\n",
        "# model-selection\n",
        "reg = linear_model.LinearRegression()"
      ],
      "execution_count": 5,
      "outputs": []
    },
    {
      "cell_type": "code",
      "metadata": {
        "colab": {
          "base_uri": "https://localhost:8080/"
        },
        "id": "KkJMpGl-BE8F",
        "outputId": "0f11eef8-ab61-401e-f8d9-d0462f765ec9"
      },
      "source": [
        "# Feature Engineering - dropping the irrelevant columns in the multivariate dataset\n",
        "# Train the Model\n",
        "reg.fit(df.drop(['price', 'hotwaterheating',\n",
        "                 'airconditioning', 'prefarea', 'mainroad', 'semi-furnished', 'unfurnished'], axis='columns'), df.price)"
      ],
      "execution_count": 6,
      "outputs": [
        {
          "output_type": "execute_result",
          "data": {
            "text/plain": [
              "LinearRegression(copy_X=True, fit_intercept=True, n_jobs=None, normalize=False)"
            ]
          },
          "metadata": {},
          "execution_count": 6
        }
      ]
    },
    {
      "cell_type": "code",
      "metadata": {
        "colab": {
          "base_uri": "https://localhost:8080/"
        },
        "id": "IW8uHy0bBHW9",
        "outputId": "8d8190e5-49da-40d7-cbe8-c5331ece2725"
      },
      "source": [
        "# predicting with area, bedroom, bathrooms, 'basement', stories, guestroom, parking, areaperbedroom, bbratio\n",
        "print(reg.predict(\n",
        "    [[5500, 3, 2, 2, 1, 0, 1, 1833.22, 0.667]]))\n"
      ],
      "execution_count": 7,
      "outputs": [
        {
          "output_type": "stream",
          "name": "stdout",
          "text": [
            "[6026937.93858486]\n"
          ]
        }
      ]
    },
    {
      "cell_type": "code",
      "metadata": {
        "id": "Kqvw7uMMBKCL"
      },
      "source": [
        "# Saving model to disk\n",
        "pickle.dump(reg, open('model.pkl', 'wb'))"
      ],
      "execution_count": 8,
      "outputs": []
    },
    {
      "cell_type": "code",
      "metadata": {
        "colab": {
          "base_uri": "https://localhost:8080/"
        },
        "id": "N3_NlX-pBNT4",
        "outputId": "92e89d33-25d2-4314-c649-b08358872d9a"
      },
      "source": [
        "# Loading model to compare the results\n",
        "model = pickle.load(open('model.pkl', 'rb'))\n",
        "print(model.predict([[5500, 3, 2, 2, 1, 0, 1, 1833.22, 0.667]]))\n"
      ],
      "execution_count": 9,
      "outputs": [
        {
          "output_type": "stream",
          "name": "stdout",
          "text": [
            "[6026937.93858486]\n"
          ]
        }
      ]
    }
  ]
}